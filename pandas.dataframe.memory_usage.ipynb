{
 "cells": [
  {
   "cell_type": "code",
   "execution_count": 4,
   "id": "1c62afec",
   "metadata": {},
   "outputs": [],
   "source": [
    "import pandas as pd\n",
    "import numpy as np"
   ]
  },
  {
   "cell_type": "code",
   "execution_count": 2,
   "id": "84e4163c",
   "metadata": {},
   "outputs": [],
   "source": [
    "dtypes = ['int64', 'float64', 'complex128', 'object', 'bool']"
   ]
  },
  {
   "cell_type": "code",
   "execution_count": 5,
   "id": "00f85fc3",
   "metadata": {},
   "outputs": [],
   "source": [
    "data = dict([(t, np.ones(shape=5000, dtype=int).astype(t))\n",
    "             for t in dtypes])"
   ]
  },
  {
   "cell_type": "code",
   "execution_count": 6,
   "id": "0ca61ea0",
   "metadata": {},
   "outputs": [
    {
     "data": {
      "text/plain": [
       "{'int64': array([1, 1, 1, ..., 1, 1, 1], dtype=int64),\n",
       " 'float64': array([1., 1., 1., ..., 1., 1., 1.]),\n",
       " 'complex128': array([1.+0.j, 1.+0.j, 1.+0.j, ..., 1.+0.j, 1.+0.j, 1.+0.j]),\n",
       " 'object': array([1, 1, 1, ..., 1, 1, 1], dtype=object),\n",
       " 'bool': array([ True,  True,  True, ...,  True,  True,  True])}"
      ]
     },
     "execution_count": 6,
     "metadata": {},
     "output_type": "execute_result"
    }
   ],
   "source": [
    "data"
   ]
  },
  {
   "cell_type": "code",
   "execution_count": 7,
   "id": "092e8988",
   "metadata": {},
   "outputs": [],
   "source": [
    "df = pd.DataFrame(data)"
   ]
  },
  {
   "cell_type": "code",
   "execution_count": 8,
   "id": "ac4a1336",
   "metadata": {},
   "outputs": [
    {
     "data": {
      "text/html": [
       "<div>\n",
       "<style scoped>\n",
       "    .dataframe tbody tr th:only-of-type {\n",
       "        vertical-align: middle;\n",
       "    }\n",
       "\n",
       "    .dataframe tbody tr th {\n",
       "        vertical-align: top;\n",
       "    }\n",
       "\n",
       "    .dataframe thead th {\n",
       "        text-align: right;\n",
       "    }\n",
       "</style>\n",
       "<table border=\"1\" class=\"dataframe\">\n",
       "  <thead>\n",
       "    <tr style=\"text-align: right;\">\n",
       "      <th></th>\n",
       "      <th>int64</th>\n",
       "      <th>float64</th>\n",
       "      <th>complex128</th>\n",
       "      <th>object</th>\n",
       "      <th>bool</th>\n",
       "    </tr>\n",
       "  </thead>\n",
       "  <tbody>\n",
       "    <tr>\n",
       "      <th>0</th>\n",
       "      <td>1</td>\n",
       "      <td>1.0</td>\n",
       "      <td>1.0+0.0j</td>\n",
       "      <td>1</td>\n",
       "      <td>True</td>\n",
       "    </tr>\n",
       "    <tr>\n",
       "      <th>1</th>\n",
       "      <td>1</td>\n",
       "      <td>1.0</td>\n",
       "      <td>1.0+0.0j</td>\n",
       "      <td>1</td>\n",
       "      <td>True</td>\n",
       "    </tr>\n",
       "    <tr>\n",
       "      <th>2</th>\n",
       "      <td>1</td>\n",
       "      <td>1.0</td>\n",
       "      <td>1.0+0.0j</td>\n",
       "      <td>1</td>\n",
       "      <td>True</td>\n",
       "    </tr>\n",
       "    <tr>\n",
       "      <th>3</th>\n",
       "      <td>1</td>\n",
       "      <td>1.0</td>\n",
       "      <td>1.0+0.0j</td>\n",
       "      <td>1</td>\n",
       "      <td>True</td>\n",
       "    </tr>\n",
       "    <tr>\n",
       "      <th>4</th>\n",
       "      <td>1</td>\n",
       "      <td>1.0</td>\n",
       "      <td>1.0+0.0j</td>\n",
       "      <td>1</td>\n",
       "      <td>True</td>\n",
       "    </tr>\n",
       "  </tbody>\n",
       "</table>\n",
       "</div>"
      ],
      "text/plain": [
       "   int64  float64  complex128 object  bool\n",
       "0      1      1.0    1.0+0.0j      1  True\n",
       "1      1      1.0    1.0+0.0j      1  True\n",
       "2      1      1.0    1.0+0.0j      1  True\n",
       "3      1      1.0    1.0+0.0j      1  True\n",
       "4      1      1.0    1.0+0.0j      1  True"
      ]
     },
     "execution_count": 8,
     "metadata": {},
     "output_type": "execute_result"
    }
   ],
   "source": [
    "df.head()"
   ]
  },
  {
   "cell_type": "code",
   "execution_count": 9,
   "id": "6bfb358c",
   "metadata": {},
   "outputs": [
    {
     "data": {
      "text/plain": [
       "Index           128\n",
       "int64         40000\n",
       "float64       40000\n",
       "complex128    80000\n",
       "object        40000\n",
       "bool           5000\n",
       "dtype: int64"
      ]
     },
     "execution_count": 9,
     "metadata": {},
     "output_type": "execute_result"
    }
   ],
   "source": [
    "df.memory_usage()"
   ]
  },
  {
   "cell_type": "code",
   "execution_count": 10,
   "id": "b654a636",
   "metadata": {},
   "outputs": [
    {
     "data": {
      "text/plain": [
       "int64         40000\n",
       "float64       40000\n",
       "complex128    80000\n",
       "object        40000\n",
       "bool           5000\n",
       "dtype: int64"
      ]
     },
     "execution_count": 10,
     "metadata": {},
     "output_type": "execute_result"
    }
   ],
   "source": [
    "df.memory_usage(index=False)"
   ]
  },
  {
   "cell_type": "code",
   "execution_count": 11,
   "id": "3c4745ba",
   "metadata": {},
   "outputs": [
    {
     "data": {
      "text/plain": [
       "Index           128\n",
       "int64         40000\n",
       "float64       40000\n",
       "complex128    80000\n",
       "object        40000\n",
       "bool           5000\n",
       "dtype: int64"
      ]
     },
     "execution_count": 11,
     "metadata": {},
     "output_type": "execute_result"
    }
   ],
   "source": [
    "df.memory_usage(index=True)"
   ]
  },
  {
   "cell_type": "code",
   "execution_count": 12,
   "id": "0420a14b",
   "metadata": {},
   "outputs": [
    {
     "data": {
      "text/plain": [
       "Index            128\n",
       "int64          40000\n",
       "float64        40000\n",
       "complex128     80000\n",
       "object        180000\n",
       "bool            5000\n",
       "dtype: int64"
      ]
     },
     "execution_count": 12,
     "metadata": {},
     "output_type": "execute_result"
    }
   ],
   "source": [
    "df.memory_usage(deep=True)"
   ]
  },
  {
   "cell_type": "code",
   "execution_count": 13,
   "id": "88e0ffd5",
   "metadata": {},
   "outputs": [
    {
     "data": {
      "text/plain": [
       "Index           128\n",
       "int64         40000\n",
       "float64       40000\n",
       "complex128    80000\n",
       "object        40000\n",
       "bool           5000\n",
       "dtype: int64"
      ]
     },
     "execution_count": 13,
     "metadata": {},
     "output_type": "execute_result"
    }
   ],
   "source": [
    "df.memory_usage(deep=False)"
   ]
  },
  {
   "cell_type": "code",
   "execution_count": 14,
   "id": "adc57517",
   "metadata": {},
   "outputs": [
    {
     "data": {
      "text/plain": [
       "5244"
      ]
     },
     "execution_count": 14,
     "metadata": {},
     "output_type": "execute_result"
    }
   ],
   "source": [
    "df['object'].astype('category').memory_usage(deep=True)"
   ]
  },
  {
   "cell_type": "code",
   "execution_count": 15,
   "id": "c752eb1b",
   "metadata": {},
   "outputs": [
    {
     "data": {
      "text/plain": [
       "5244"
      ]
     },
     "execution_count": 15,
     "metadata": {},
     "output_type": "execute_result"
    }
   ],
   "source": [
    "df['object'].astype('category').memory_usage(deep=False)"
   ]
  },
  {
   "cell_type": "code",
   "execution_count": null,
   "id": "1510f0e7",
   "metadata": {},
   "outputs": [],
   "source": []
  }
 ],
 "metadata": {
  "kernelspec": {
   "display_name": "Python 3 (ipykernel)",
   "language": "python",
   "name": "python3"
  },
  "language_info": {
   "codemirror_mode": {
    "name": "ipython",
    "version": 3
   },
   "file_extension": ".py",
   "mimetype": "text/x-python",
   "name": "python",
   "nbconvert_exporter": "python",
   "pygments_lexer": "ipython3",
   "version": "3.10.5"
  }
 },
 "nbformat": 4,
 "nbformat_minor": 5
}
